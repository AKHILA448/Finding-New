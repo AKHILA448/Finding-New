{
 "cells": [
  {
   "cell_type": "markdown",
   "id": "54046671",
   "metadata": {},
   "source": [
    "# 3"
   ]
  },
  {
   "cell_type": "markdown",
   "id": "2af4ebef",
   "metadata": {},
   "source": [
    "# CEA20EE006"
   ]
  },
  {
   "cell_type": "code",
   "execution_count": null,
   "id": "701880ec",
   "metadata": {},
   "outputs": [],
   "source": [
    "AKHILA S KUMAR"
   ]
  },
  {
   "cell_type": "code",
   "execution_count": null,
   "id": "8396286e",
   "metadata": {},
   "outputs": [],
   "source": [
    "##input:\"Argue for your limitations, and sure enough, they're yours\""
   ]
  },
  {
   "cell_type": "code",
   "execution_count": 3,
   "id": "360ffc31",
   "metadata": {},
   "outputs": [
    {
     "name": "stdout",
     "output_type": "stream",
     "text": [
      "Vowels: 21\n",
      "Consonant: 26\n",
      "Digit: 0\n",
      "Special Character: 11\n"
     ]
    }
   ],
   "source": [
    "def countCharacterType(str): \n",
    "\n",
    " \n",
    "\n",
    "    vowels_ee006 = 0 \n",
    "\n",
    "    consonant_ee006 = 0 \n",
    "\n",
    "    specialChar_ee006 = 0 \n",
    "\n",
    "    digit_ee006 = 0 \n",
    "\n",
    " \n",
    "\n",
    "\n",
    "    for i in range(0, len(str)): \n",
    "\n",
    "         \n",
    "\n",
    "        ch = str[i] \n",
    "\n",
    " \n",
    "\n",
    "        if ( (ch >= 'a' and ch <= 'z') or \n",
    "\n",
    "             (ch >= 'A' and ch <= 'Z') ): \n",
    "\n",
    " \n",
    "\n",
    "\n",
    "            ch = ch.lower() \n",
    "\n",
    " \n",
    "\n",
    "            if (ch == 'a' or ch == 'e' or ch == 'i' \n",
    "\n",
    "                        or ch == 'o' or ch == 'u'): \n",
    "\n",
    "                vowels_ee006 += 1 \n",
    "\n",
    "            else: \n",
    "\n",
    "                consonant_ee006 += 1 \n",
    "\n",
    "         \n",
    "\n",
    "        elif (ch >= '0' and ch <= '9'): \n",
    "\n",
    "            digit_ee006 += 1 \n",
    "\n",
    "        else: \n",
    "\n",
    "            specialChar_ee006 += 1 \n",
    "\n",
    "     \n",
    "\n",
    "    print(\"Vowels:\", vowels_ee006) \n",
    "\n",
    "    print(\"Consonant:\", consonant_ee006) \n",
    "\n",
    "    print(\"Digit:\", digit_ee006) \n",
    "\n",
    "    print(\"Special Character:\", specialChar_ee006) \n",
    "\n",
    " \n",
    "\n",
    "\n",
    "\n",
    "str = \"Argue for your limitations, and sure enough, they're yours\" \n",
    "\n",
    "countCharacterType(str)"
   ]
  },
  {
   "cell_type": "code",
   "execution_count": null,
   "id": "2c1b94fa",
   "metadata": {},
   "outputs": [],
   "source": []
  }
 ],
 "metadata": {
  "kernelspec": {
   "display_name": "Python 3 (ipykernel)",
   "language": "python",
   "name": "python3"
  },
  "language_info": {
   "codemirror_mode": {
    "name": "ipython",
    "version": 3
   },
   "file_extension": ".py",
   "mimetype": "text/x-python",
   "name": "python",
   "nbconvert_exporter": "python",
   "pygments_lexer": "ipython3",
   "version": "3.8.5"
  }
 },
 "nbformat": 4,
 "nbformat_minor": 5
}
