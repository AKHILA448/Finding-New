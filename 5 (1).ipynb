{
 "cells": [
  {
   "cell_type": "markdown",
   "id": "0affe87a",
   "metadata": {},
   "source": [
    "# 5"
   ]
  },
  {
   "cell_type": "markdown",
   "id": "015d4f18",
   "metadata": {},
   "source": [
    "# CEA20EE006"
   ]
  },
  {
   "cell_type": "markdown",
   "id": "0fe86a02",
   "metadata": {},
   "source": [
    "AKHILA S KUMAR"
   ]
  },
  {
   "cell_type": "code",
   "execution_count": 13,
   "id": "fc575b36",
   "metadata": {},
   "outputs": [
    {
     "name": "stdout",
     "output_type": "stream",
     "text": [
      "enter the number:34102\n",
      "5\n"
     ]
    }
   ],
   "source": [
    "##input 34102 (ktu id:cea20ee006) date of birth:17/11/2001\n",
    "\n",
    "try:\n",
    "    n_ee006=int(input(\"enter the number:\"))\n",
    "    if n_ee006 >0:\n",
    "        num_ee006=n_ee006\n",
    "    else:\n",
    "        num_ee006=-(n_ee006)\n",
    "    def digit(num_ee006):\n",
    "        count_ee006=0\n",
    "        while num_ee006>0:\n",
    "                      \n",
    "            reminder_ee006=num_ee006%10\n",
    "            count_ee006=count_ee006+1\n",
    "            num_ee006=num_ee006//10\n",
    "                      \n",
    "        return(count_ee006)\n",
    "    print(digit(num_ee006))\n",
    "                      \n",
    "except ValueError:\n",
    "        print(\"error\")\n",
    "                      "
   ]
  },
  {
   "cell_type": "code",
   "execution_count": null,
   "id": "bce26159",
   "metadata": {},
   "outputs": [],
   "source": []
  },
  {
   "cell_type": "code",
   "execution_count": null,
   "id": "ab749043",
   "metadata": {},
   "outputs": [],
   "source": []
  }
 ],
 "metadata": {
  "kernelspec": {
   "display_name": "Python 3 (ipykernel)",
   "language": "python",
   "name": "python3"
  },
  "language_info": {
   "codemirror_mode": {
    "name": "ipython",
    "version": 3
   },
   "file_extension": ".py",
   "mimetype": "text/x-python",
   "name": "python",
   "nbconvert_exporter": "python",
   "pygments_lexer": "ipython3",
   "version": "3.8.5"
  }
 },
 "nbformat": 4,
 "nbformat_minor": 5
}
