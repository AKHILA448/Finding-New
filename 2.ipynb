{
 "cells": [
  {
   "cell_type": "markdown",
   "id": "7ef78586",
   "metadata": {},
   "source": [
    "## 2"
   ]
  },
  {
   "cell_type": "markdown",
   "id": "4f80d411",
   "metadata": {},
   "source": [
    "# CEA20EE006"
   ]
  },
  {
   "cell_type": "markdown",
   "id": "8e7c4b1c",
   "metadata": {},
   "source": [
    "# AKHILA SKUMAR"
   ]
  },
  {
   "cell_type": "code",
   "execution_count": 3,
   "id": "d550bcce",
   "metadata": {},
   "outputs": [
    {
     "name": "stdout",
     "output_type": "stream",
     "text": [
      "enter a value:06\n",
      "The value of 22n+n+5 when n= 6.0 is: 143.0\n"
     ]
    }
   ],
   "source": [
    "##input=06  (ktu id:CEA20EE006 - 06)\n",
    "\n",
    "try:\n",
    "    n_ee006=float(input(\"enter a value:\"))\n",
    "    value_ee006=22*n_ee006+n_ee006+5\n",
    "    print(\"The value of 22n+n+5 when n=\",n_ee006,\"is:\",value_ee006)\n",
    "except value_error:\n",
    "    print(\"error\")"
   ]
  },
  {
   "cell_type": "code",
   "execution_count": null,
   "id": "bbb685f6",
   "metadata": {},
   "outputs": [],
   "source": []
  }
 ],
 "metadata": {
  "kernelspec": {
   "display_name": "Python 3 (ipykernel)",
   "language": "python",
   "name": "python3"
  },
  "language_info": {
   "codemirror_mode": {
    "name": "ipython",
    "version": 3
   },
   "file_extension": ".py",
   "mimetype": "text/x-python",
   "name": "python",
   "nbconvert_exporter": "python",
   "pygments_lexer": "ipython3",
   "version": "3.8.5"
  }
 },
 "nbformat": 4,
 "nbformat_minor": 5
}
