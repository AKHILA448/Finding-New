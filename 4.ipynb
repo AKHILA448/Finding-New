{
 "cells": [
  {
   "cell_type": "markdown",
   "id": "71d84c7f",
   "metadata": {},
   "source": [
    "# 4"
   ]
  },
  {
   "cell_type": "markdown",
   "id": "12407800",
   "metadata": {},
   "source": [
    "# CEA20EE006"
   ]
  },
  {
   "cell_type": "code",
   "execution_count": 1,
   "id": "419a2d4c",
   "metadata": {},
   "outputs": [],
   "source": [
    "# AKHILA S KUMAR"
   ]
  },
  {
   "cell_type": "code",
   "execution_count": 2,
   "id": "398913f1",
   "metadata": {},
   "outputs": [],
   "source": [
    "##input=20006"
   ]
  },
  {
   "cell_type": "code",
   "execution_count": 4,
   "id": "cef1813e",
   "metadata": {},
   "outputs": [
    {
     "name": "stdout",
     "output_type": "stream",
     "text": [
      "enter the year:20006\n",
      "20006 is not a leap year.\n"
     ]
    }
   ],
   "source": [
    "##input 20006 (ktu id:CEA20EE006)\n",
    "try:\n",
    "    y_ee006=int(input(\"enter the year:\"))\n",
    "    if(y_ee006%4)==0:\n",
    "        print(y_ee006,\"is a leap year.\")\n",
    "        \n",
    "    else:\n",
    "        print(y_ee006,\"is not a leap year.\")\n",
    "except value_error:\n",
    "    print(\"error\")\n",
    "    "
   ]
  },
  {
   "cell_type": "code",
   "execution_count": null,
   "id": "b8551517",
   "metadata": {},
   "outputs": [],
   "source": []
  }
 ],
 "metadata": {
  "kernelspec": {
   "display_name": "Python 3 (ipykernel)",
   "language": "python",
   "name": "python3"
  },
  "language_info": {
   "codemirror_mode": {
    "name": "ipython",
    "version": 3
   },
   "file_extension": ".py",
   "mimetype": "text/x-python",
   "name": "python",
   "nbconvert_exporter": "python",
   "pygments_lexer": "ipython3",
   "version": "3.8.5"
  }
 },
 "nbformat": 4,
 "nbformat_minor": 5
}
