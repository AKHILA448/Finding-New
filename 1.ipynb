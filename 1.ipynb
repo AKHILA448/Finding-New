{
 "cells": [
  {
   "cell_type": "markdown",
   "id": "b6083760",
   "metadata": {},
   "source": [
    "# 1 "
   ]
  },
  {
   "cell_type": "markdown",
   "id": "65e90be0",
   "metadata": {},
   "source": [
    "# CEA20EE006"
   ]
  },
  {
   "cell_type": "markdown",
   "id": "b5148938",
   "metadata": {},
   "source": [
    "# AKHILA S KUMAR"
   ]
  },
  {
   "cell_type": "code",
   "execution_count": 1,
   "id": "ab0b415a",
   "metadata": {},
   "outputs": [],
   "source": [
    "#INPUT:20006 "
   ]
  },
  {
   "cell_type": "code",
   "execution_count": 9,
   "id": "4da337c9",
   "metadata": {},
   "outputs": [
    {
     "name": "stdout",
     "output_type": "stream",
     "text": [
      "enter the number:20006\n",
      "Reverse number: 60002\n",
      "sumof digits: 8\n"
     ]
    }
   ],
   "source": [
    "try:\n",
    "    number_ee006=int(input(\"enter the number:\"))  #CEA20EE006---->20006\n",
    "    \n",
    "except value_error:\n",
    "    print(\"error\")\n",
    "r_ee006=0\n",
    "sum_ee006=0\n",
    "while number_ee006>0:\n",
    "    digit_ee006=number_ee006%10\n",
    "    sum_ee006=sum_ee006+digit_ee006\n",
    "    r_ee006=r_ee006*10+digit_ee006\n",
    "     \n",
    "    number_ee006=number_ee006 // 10\n",
    "\n",
    "\n",
    "print(\"Reverse number:\",r_ee006)\n",
    "print(\"sumof digits:\",sum_ee006)"
   ]
  },
  {
   "cell_type": "code",
   "execution_count": null,
   "id": "a047434b",
   "metadata": {},
   "outputs": [],
   "source": []
  }
 ],
 "metadata": {
  "kernelspec": {
   "display_name": "Python 3 (ipykernel)",
   "language": "python",
   "name": "python3"
  },
  "language_info": {
   "codemirror_mode": {
    "name": "ipython",
    "version": 3
   },
   "file_extension": ".py",
   "mimetype": "text/x-python",
   "name": "python",
   "nbconvert_exporter": "python",
   "pygments_lexer": "ipython3",
   "version": "3.8.5"
  }
 },
 "nbformat": 4,
 "nbformat_minor": 5
}
